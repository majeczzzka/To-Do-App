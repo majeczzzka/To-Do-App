{
 "cells": [
  {
   "cell_type": "code",
   "execution_count": 252,
   "metadata": {},
   "outputs": [],
   "source": [
    "import requests"
   ]
  },
  {
   "cell_type": "code",
   "execution_count": 253,
   "metadata": {},
   "outputs": [
    {
     "name": "stdout",
     "output_type": "stream",
     "text": [
      "{'id': 1, 'items': [], 'title': 'Test List'}\n"
     ]
    }
   ],
   "source": [
    "BASE_URL = \"http://127.0.0.1:5002/api\"\n",
    "data = {\n",
    "    \"title\": \"Test List\",\n",
    "}\n",
    "response = requests.post(f\"{BASE_URL}/lists\", json=data)\n",
    "print(response.json())"
   ]
  },
  {
   "cell_type": "code",
   "execution_count": 254,
   "metadata": {},
   "outputs": [
    {
     "name": "stdout",
     "output_type": "stream",
     "text": [
      "{'id': 1, 'is_done': False, 'is_visible': True, 'sub_items': [], 'title': 'Test Item'}\n"
     ]
    }
   ],
   "source": [
    "BASE_URL = \"http://127.0.0.1:5002/api\"\n",
    "list_id=1\n",
    "data = {\n",
    "    \"title\": \"Test Item\",\n",
    "}\n",
    "response = requests.post(f\"{BASE_URL}/lists/{list_id}/items\", json=data)\n",
    "print(response.json())"
   ]
  },
  {
   "cell_type": "code",
   "execution_count": 255,
   "metadata": {},
   "outputs": [
    {
     "name": "stdout",
     "output_type": "stream",
     "text": [
      "{'id': 1, 'is_sub_done': False, 'is_sub_visible': True, 'sub_sub_items': [], 'title': 'Test Item'}\n"
     ]
    }
   ],
   "source": [
    "BASE_URL = \"http://127.0.0.1:5002/api\"\n",
    "list_id=1\n",
    "item_id=1\n",
    "data = {\n",
    "    \"title\": \"Test Item\",\n",
    "}\n",
    "response = requests.post(f\"{BASE_URL}/lists/{list_id}/items/{item_id}/subitems\", json=data)\n",
    "print(response.json())"
   ]
  },
  {
   "cell_type": "code",
   "execution_count": 256,
   "metadata": {},
   "outputs": [
    {
     "name": "stdout",
     "output_type": "stream",
     "text": [
      "{'id': 1, 'is_done': False, 'is_visible': False, 'sub_items': [{'id': 1, 'is_sub_done': False, 'is_sub_visible': True, 'sub_sub_items': [], 'title': 'Test Item'}], 'title': 'Test Item'}\n"
     ]
    }
   ],
   "source": [
    "BASE_URL = \"http://127.0.0.1:5002/api\"\n",
    "list_id=1\n",
    "item_id=1\n",
    "data = {\n",
    "    \"is_visible\": False,\n",
    "}\n",
    "response = requests.put(f\"{BASE_URL}/lists/{list_id}/items/{item_id}\", json=data)\n",
    "print(response.json())"
   ]
  },
  {
   "cell_type": "code",
   "execution_count": null,
   "metadata": {},
   "outputs": [],
   "source": [
    "BASE_URL = \"http://127.0.0.1:5002/api\"\n",
    "list_id=1\n",
    "item_id=1\n",
    "sub_item_id=1\n",
    "data = {\n",
    "    \"is_visible\": False,\n",
    "}\n",
    "response = requests.put(f\"{BASE_URL}/lists/{list_id}/items/{item_id}/subitems/{sub_item_id}\", json=data)\n",
    "print(response.json())"
   ]
  },
  {
   "cell_type": "code",
   "execution_count": 257,
   "metadata": {},
   "outputs": [
    {
     "name": "stdout",
     "output_type": "stream",
     "text": [
      "{'id': 1, 'is_sub_done': False, 'is_sub_visible': False, 'sub_sub_items': [], 'title': 'Test Item'}\n"
     ]
    }
   ],
   "source": [
    "BASE_URL = \"http://127.0.0.1:5002/api\"\n",
    "list_id=1\n",
    "item_id=1\n",
    "sub_item_id=1\n",
    "data = {\n",
    "    \"is_sub_visible\": False,\n",
    "}\n",
    "response = requests.put(f\"{BASE_URL}/lists/{list_id}/items/{item_id}/subitems/{sub_item_id}\", json=data)\n",
    "print(response.json())"
   ]
  },
  {
   "cell_type": "code",
   "execution_count": 258,
   "metadata": {},
   "outputs": [
    {
     "name": "stdout",
     "output_type": "stream",
     "text": [
      "{'id': 1, 'is_sub_sub_done': False, 'title': 'Test SubSubItem'}\n"
     ]
    }
   ],
   "source": [
    "BASE_URL = \"http://127.0.0.1:5002/api\"\n",
    "list_id=1\n",
    "item_id=1\n",
    "sub_item_id=1\n",
    "data = {\n",
    "    \"title\": \"Test SubSubItem\",\n",
    "}\n",
    "response = requests.post(f\"{BASE_URL}/lists/{list_id}/items/{item_id}/subitems/{sub_item_id}/subsubitems\", json=data)\n",
    "print(response.json())"
   ]
  },
  {
   "cell_type": "code",
   "execution_count": 259,
   "metadata": {},
   "outputs": [
    {
     "name": "stdout",
     "output_type": "stream",
     "text": [
      "{'message': 'SubSubItem deleted successfully'}\n"
     ]
    }
   ],
   "source": [
    "BASE_URL = \"http://127.0.0.1:5002/api\"\n",
    "list_id=1\n",
    "item_id=1\n",
    "sub_item_id=1\n",
    "sub_sub_item_id=1\n",
    "\n",
    "response = requests.delete(f\"{BASE_URL}/lists/{list_id}/items/{item_id}/subitems/{sub_item_id}/subsubitems/{sub_sub_item_id}\")\n",
    "print(response.json())"
   ]
  },
  {
   "cell_type": "code",
   "execution_count": 260,
   "metadata": {},
   "outputs": [
    {
     "name": "stdout",
     "output_type": "stream",
     "text": [
      "{'message': 'Subitem deleted successfully'}\n"
     ]
    }
   ],
   "source": [
    "BASE_URL = \"http://127.0.0.1:5002/api\"\n",
    "list_id=1\n",
    "item_id=1\n",
    "sub_item_id=1\n",
    "\n",
    "response = requests.delete(f\"{BASE_URL}/lists/{list_id}/items/{item_id}/subitems/{sub_item_id}\")\n",
    "print(response.json())"
   ]
  },
  {
   "cell_type": "code",
   "execution_count": 261,
   "metadata": {},
   "outputs": [
    {
     "name": "stdout",
     "output_type": "stream",
     "text": [
      "{'message': 'Item deleted successfully'}\n"
     ]
    }
   ],
   "source": [
    "BASE_URL = \"http://127.0.0.1:5002/api\"\n",
    "list_id=1\n",
    "item_id=1\n",
    "\n",
    "response = requests.delete(f\"{BASE_URL}/lists/{list_id}/items/{item_id}\")\n",
    "print(response.json())"
   ]
  },
  {
   "cell_type": "code",
   "execution_count": 262,
   "metadata": {},
   "outputs": [
    {
     "name": "stdout",
     "output_type": "stream",
     "text": [
      "{'message': 'List deleted successfully'}\n"
     ]
    }
   ],
   "source": [
    "BASE_URL = \"http://127.0.0.1:5002/api\"\n",
    "list_id=1\n",
    "\n",
    "response = requests.delete(f\"{BASE_URL}/lists/{list_id}\")\n",
    "print(response.json())"
   ]
  },
  {
   "cell_type": "code",
   "execution_count": null,
   "metadata": {},
   "outputs": [],
   "source": []
  },
  {
   "cell_type": "code",
   "execution_count": null,
   "metadata": {},
   "outputs": [],
   "source": []
  }
 ],
 "metadata": {
  "kernelspec": {
   "display_name": "base",
   "language": "python",
   "name": "python3"
  },
  "language_info": {
   "codemirror_mode": {
    "name": "ipython",
    "version": 3
   },
   "file_extension": ".py",
   "mimetype": "text/x-python",
   "name": "python",
   "nbconvert_exporter": "python",
   "pygments_lexer": "ipython3",
   "version": "3.8.8"
  },
  "orig_nbformat": 4
 },
 "nbformat": 4,
 "nbformat_minor": 2
}
